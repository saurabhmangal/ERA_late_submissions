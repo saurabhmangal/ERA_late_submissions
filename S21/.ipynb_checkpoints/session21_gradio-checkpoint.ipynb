{
 "cells": [
  {
   "cell_type": "code",
   "execution_count": 1,
   "metadata": {},
   "outputs": [
    {
     "name": "stdout",
     "output_type": "stream",
     "text": [
      "proxy_exported\n"
     ]
    }
   ],
   "source": [
    "### this is for running in local ###\n",
    "import os\n",
    "try:\n",
    "    os.environ['HTTP_PROXY']='http://185.46.212.90:80'\n",
    "    os.environ['HTTPS_PROXY']='http://185.46.212.90:80'\n",
    "    print (\"proxy_exported\")\n",
    "except:\n",
    "    None"
   ]
  },
  {
   "cell_type": "code",
   "execution_count": null,
   "metadata": {},
   "outputs": [],
   "source": [
    "!pip install gradio --quiet\n",
    "!pip install lightning --quiet"
   ]
  },
  {
   "cell_type": "code",
   "execution_count": null,
   "metadata": {
    "id": "3ymSB9IlcsY0"
   },
   "outputs": [],
   "source": [
    "import gradio as gr\n",
    "import torch\n",
    "from torch import nn\n",
    "import lightning.pytorch as pl\n",
    "from torch.nn import functional as F\n",
    "from utils import GPTLM, encode,decode"
   ]
  },
  {
   "cell_type": "code",
   "execution_count": null,
   "metadata": {
    "id": "Pp_LaFguqv0G"
   },
   "outputs": [],
   "source": [
    "newmodel = GPTLM.load_from_checkpoint('shakespeare_gpt.pth')"
   ]
  },
  {
   "cell_type": "code",
   "execution_count": null,
   "metadata": {
    "id": "2yApD_MW7VYA"
   },
   "outputs": [],
   "source": [
    "def generate_dialogue(character_dropdown):\n",
    "  if character_dropdown == \"NONE\":\n",
    "    context = torch.zeros((1, 1), dtype=torch.long)\n",
    "    return decode(newmodel.model.generate(context, max_new_tokens=100)[0].tolist())\n",
    "  else:\n",
    "    context = torch.tensor([encode(character_dropdown)], dtype=torch.long)\n",
    "    output_dialogue = decode(newmodel.model.generate(context, max_new_tokens=100)[0].tolist())\n",
    "    # remove extra dialogue returned\n",
    "    output_dialogue = str(output_dialogue.split(\"\\n\\n\")[0])\n",
    "    return output_dialogue"
   ]
  },
  {
   "cell_type": "code",
   "execution_count": null,
   "metadata": {
    "id": "25WNTIdbrlbG"
   },
   "outputs": [],
   "source": [
    "HTML_TEMPLATE = \"\"\"\n",
    "<style>\n",
    "\n",
    "    #app-header {\n",
    "        text-align: center;\n",
    "        background: rgba(255, 255, 255, 0.3); /* Semi-transparent white */\n",
    "        padding: 20px;\n",
    "        border-radius: 10px;\n",
    "        box-shadow: 0 4px 6px rgba(0, 0, 0, 0.1);\n",
    "        position: relative; /* To position the artifacts */\n",
    "    }\n",
    "    #app-header h1 {\n",
    "        color: #FF0000;\n",
    "        font-size: 2em;\n",
    "        margin-bottom: 10px;\n",
    "    }\n",
    "    .concept {\n",
    "        position: relative;\n",
    "        transition: transform 0.3s;\n",
    "    }\n",
    "    .concept:hover {\n",
    "        transform: scale(1.1);\n",
    "    }\n",
    "    .concept img {\n",
    "        width: 100px;\n",
    "        border-radius: 10px;\n",
    "        box-shadow: 0 4px 6px rgba(0, 0, 0, 0.1);\n",
    "    }\n",
    "    .concept-description {\n",
    "        position: absolute;\n",
    "        bottom: -30px;\n",
    "        left: 50%;\n",
    "        transform: translateX(-50%);\n",
    "        background-color: #4CAF50;\n",
    "        color: white;\n",
    "        padding: 5px 10px;\n",
    "        border-radius: 5px;\n",
    "        opacity: 0;\n",
    "        transition: opacity 0.3s;\n",
    "    }\n",
    "    .concept:hover .concept-description {\n",
    "        opacity: 1;\n",
    "    }\n",
    "    /* Artifacts */\n",
    "\n",
    "</style>\n",
    "<div id=\"app-header\">\n",
    "    <!-- Artifacts -->\n",
    "    <div class=\"artifact large\"></div>\n",
    "    <div class=\"artifact large\"></div>\n",
    "    <div class=\"artifact large\"></div>\n",
    "    <div class=\"artifact large\"></div>\n",
    "    <!-- Content -->\n",
    "    <h1>SHAKESPEARE  DIALOGUE  GENERATOR</h1>\n",
    "    <p>Generate dialogue for Shakespearean character by selecting character from dropdown.</p>\n",
    "    <p>Model: GPT, Dataset: Tiny Shakespeare, Token limit: 100.</p>\n",
    "\"\"\""
   ]
  },
  {
   "cell_type": "code",
   "execution_count": null,
   "metadata": {
    "colab": {
     "base_uri": "https://localhost:8080/",
     "height": 750
    },
    "id": "2DNLzKIDdCjZ",
    "outputId": "63cafcdb-eb3e-46f7-ff78-4149e2602416"
   },
   "outputs": [],
   "source": [
    "with gr.Blocks(theme=gr.themes.Glass(),css=\".gradio-container {background: url('file=https://github.com/Delve-ERAV1/S20/assets/11761529/c0ff84a4-dde6-473e-a820-d3797040eb9d')}\") as interface:\n",
    "    gr.HTML(value=HTML_TEMPLATE, show_label=False)\n",
    "\n",
    "    gr.Markdown(\"\")\n",
    "    gr.Markdown(\"\")\n",
    "    gr.Markdown(\"\")\n",
    "\n",
    "    gr.Markdown(\"\")\n",
    "    gr.Markdown(\"\")\n",
    "    gr.Markdown(\"\")\n",
    "    gr.Markdown(\"\")\n",
    "\n",
    "    gr.Markdown(\"\")\n",
    "    gr.Markdown(\"\")\n",
    "    gr.Markdown(\"\")\n",
    "    gr.Markdown(\"\")\n",
    "    gr.Markdown(\"\")\n",
    "    gr.Markdown(\"\")\n",
    "    gr.Markdown(\"\")\n",
    "\n",
    "    gr.Markdown(\"\")\n",
    "    gr.Markdown(\"\")\n",
    "\n",
    "    gr.Markdown(\"\")\n",
    "    gr.Markdown(\"\")\n",
    "    gr.Markdown(\"\")\n",
    "    gr.Markdown(\"\")\n",
    "\n",
    "    gr.Markdown(\"\")\n",
    "    gr.Markdown(\"\")\n",
    "    gr.Markdown(\"\")\n",
    "    gr.Markdown(\"\")\n",
    "    gr.Markdown(\"\")\n",
    "    gr.Markdown(\"\")\n",
    "    gr.Markdown(\"\")\n",
    "\n",
    "    gr.Markdown(\"\")\n",
    "    gr.Markdown(\"\")\n",
    "\n",
    "    gr.Markdown(\"\")\n",
    "    gr.Markdown(\"\")\n",
    "    gr.Markdown(\"\")\n",
    "    gr.Markdown(\"\")\n",
    "    gr.Markdown(\"\")\n",
    "    gr.Markdown(\"\")\n",
    "\n",
    "    gr.Markdown(\"\")\n",
    "    gr.Markdown(\"\")\n",
    "    gr.Markdown(\"\")\n",
    "    gr.Markdown(\"\")\n",
    "\n",
    "    gr.Markdown(\"\")\n",
    "    gr.Markdown(\"\")\n",
    "    gr.Markdown(\"\")\n",
    "    gr.Markdown(\"\")\n",
    "\n",
    "\n",
    "    with gr.Row(scale=1):\n",
    "        character_dropdown = gr.Dropdown(\n",
    "            label=\"Select a Character\",\n",
    "            choices=[\"NONE\",\"ROMEO\",\"JULIET\",\"MENENIUS\",\"ANTONIO\"],\n",
    "            value='Dream'\n",
    "        )\n",
    "        outputs = gr.Textbox(\n",
    "            label=\"Generated Dialogue\"\n",
    "        )\n",
    "        inputs = [character_dropdown]\n",
    "\n",
    "    with gr.Column(scale=1):\n",
    "        button = gr.Button(\"Generate\")\n",
    "        button.click(generate_dialogue, inputs=inputs, outputs=outputs)\n",
    "\n",
    "if __name__ == \"__main__\":\n",
    "    interface.launch(enable_queue=True)"
   ]
  },
  {
   "cell_type": "code",
   "execution_count": null,
   "metadata": {},
   "outputs": [],
   "source": []
  }
 ],
 "metadata": {
  "colab": {
   "provenance": []
  },
  "kernelspec": {
   "display_name": "Python 3 (ipykernel)",
   "language": "python",
   "name": "python3"
  },
  "language_info": {
   "codemirror_mode": {
    "name": "ipython",
    "version": 3
   },
   "file_extension": ".py",
   "mimetype": "text/x-python",
   "name": "python",
   "nbconvert_exporter": "python",
   "pygments_lexer": "ipython3",
   "version": "3.8.10"
  }
 },
 "nbformat": 4,
 "nbformat_minor": 1
}
