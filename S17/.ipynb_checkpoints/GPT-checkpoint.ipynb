{
 "cells": [
  {
   "cell_type": "code",
   "execution_count": 1,
   "id": "9772aee3",
   "metadata": {},
   "outputs": [
    {
     "name": "stdout",
     "output_type": "stream",
     "text": [
      "proxy_exported\n"
     ]
    }
   ],
   "source": [
    "### this is for running in local ###\n",
    "import os\n",
    "try:\n",
    "    os.environ['HTTP_PROXY']='http://185.46.212.90:80'\n",
    "    os.environ['HTTPS_PROXY']='http://185.46.212.90:80'\n",
    "    print (\"proxy_exported\")\n",
    "except:\n",
    "    None"
   ]
  },
  {
   "cell_type": "code",
   "execution_count": 2,
   "id": "0043da6b",
   "metadata": {},
   "outputs": [
    {
     "name": "stdout",
     "output_type": "stream",
     "text": [
      "proxy_exported\n"
     ]
    }
   ],
   "source": [
    "from transformers import AutoTokenizer\n",
    "from typing import List\n",
    "import torch\n",
    "import transformer\n",
    "from torchinfo import summary\n",
    "import numpy as np\n",
    "from tqdm.auto import tqdm"
   ]
  },
  {
   "cell_type": "code",
   "execution_count": 3,
   "id": "2ba1366f",
   "metadata": {},
   "outputs": [],
   "source": [
    "n_iterations = 20\n",
    "batch_size   = 16\n",
    "seq_len      = 64 # also known as blocks in gpt\n",
    "eval_iteration = 5\n",
    "total_iterations_for_evaluation = 10\n",
    "device       = \"cuda\" if torch.cuda.is_available() else \"cpu\""
   ]
  },
  {
   "cell_type": "markdown",
   "id": "891d27a1",
   "metadata": {},
   "source": [
    "### Loading data & Tokenizing "
   ]
  },
  {
   "cell_type": "code",
   "execution_count": 4,
   "id": "b340ce77",
   "metadata": {},
   "outputs": [
    {
     "data": {
      "text/plain": [
       "30522"
      ]
     },
     "execution_count": 4,
     "metadata": {},
     "output_type": "execute_result"
    }
   ],
   "source": [
    "data_pth = 'english_data/english.txt'\n",
    "data_raw = open(data_pth, encoding =\"utf-8\").read()\n",
    "\n",
    "tokenizer = AutoTokenizer.from_pretrained(\"bert-base-uncased\")\n",
    "vocab_size = tokenizer.vocab_size\n",
    "vocab_size"
   ]
  },
  {
   "cell_type": "code",
   "execution_count": 5,
   "id": "0c47d26a",
   "metadata": {},
   "outputs": [
    {
     "name": "stderr",
     "output_type": "stream",
     "text": [
      "Token indices sequence length is longer than the specified maximum sequence length for this model (37443 > 512). Running this sequence through the model will result in indexing errors\n"
     ]
    },
    {
     "data": {
      "text/plain": [
       "37443"
      ]
     },
     "execution_count": 5,
     "metadata": {},
     "output_type": "execute_result"
    }
   ],
   "source": [
    "tokens = tokenizer.tokenize(data_raw)\n",
    "token_indices = tokenizer.convert_tokens_to_ids(tokens)\n",
    "data_tokens = torch.tensor(token_indices, dtype = torch.long)\n",
    "len(data_tokens)"
   ]
  },
  {
   "cell_type": "code",
   "execution_count": 6,
   "id": "8d91c0bd",
   "metadata": {},
   "outputs": [
    {
     "data": {
      "text/plain": [
       "tensor([ 5219,  1014,  1011,  ..., 12375,  2015,  1012])"
      ]
     },
     "execution_count": 6,
     "metadata": {},
     "output_type": "execute_result"
    }
   ],
   "source": [
    "data_tokens"
   ]
  },
  {
   "cell_type": "code",
   "execution_count": 7,
   "id": "7e61d5a5",
   "metadata": {},
   "outputs": [],
   "source": [
    "n = int(0.9 * len(data_tokens))\n",
    "train_data = data_tokens[:n]\n",
    "val_data = data_tokens[n:]"
   ]
  },
  {
   "cell_type": "markdown",
   "id": "01a2caad",
   "metadata": {},
   "source": [
    "### Loading the Model"
   ]
  },
  {
   "cell_type": "code",
   "execution_count": 8,
   "id": "5e6b07a2",
   "metadata": {},
   "outputs": [
    {
     "data": {
      "text/plain": [
       "============================================================================================================================================\n",
       "Layer (type (var_name))                                      Input Shape          Output Shape         Param #              Trainable\n",
       "============================================================================================================================================\n",
       "Gpt (Gpt)                                                    [32, 64]             [32, 64, 30522]      49,152               True\n",
       "├─Embedding (embeddings)                                     [32, 64]             [32, 64, 768]        23,440,896           True\n",
       "├─Dropout (embedding_dropout)                                [32, 64, 768]        [32, 64, 768]        --                   --\n",
       "├─Sequential (transformer_decoder)                           [32, 64, 768]        [32, 64, 768]        --                   True\n",
       "│    └─TransformerDecoderBlock (0)                           [32, 64, 768]        [32, 64, 768]        --                   True\n",
       "│    │    └─MultiHeadAttentionBlockDecoder (msa_block)       [32, 64, 768]        [32, 64, 768]        2,360,064            True\n",
       "│    │    └─MLPBlock (mlp_block)                             [32, 64, 768]        [32, 64, 768]        789,248              True\n",
       "│    └─TransformerDecoderBlock (1)                           [32, 64, 768]        [32, 64, 768]        --                   True\n",
       "│    │    └─MultiHeadAttentionBlockDecoder (msa_block)       [32, 64, 768]        [32, 64, 768]        2,360,064            True\n",
       "│    │    └─MLPBlock (mlp_block)                             [32, 64, 768]        [32, 64, 768]        789,248              True\n",
       "│    └─TransformerDecoderBlock (2)                           [32, 64, 768]        [32, 64, 768]        --                   True\n",
       "│    │    └─MultiHeadAttentionBlockDecoder (msa_block)       [32, 64, 768]        [32, 64, 768]        2,360,064            True\n",
       "│    │    └─MLPBlock (mlp_block)                             [32, 64, 768]        [32, 64, 768]        789,248              True\n",
       "│    └─TransformerDecoderBlock (3)                           [32, 64, 768]        [32, 64, 768]        --                   True\n",
       "│    │    └─MultiHeadAttentionBlockDecoder (msa_block)       [32, 64, 768]        [32, 64, 768]        2,360,064            True\n",
       "│    │    └─MLPBlock (mlp_block)                             [32, 64, 768]        [32, 64, 768]        789,248              True\n",
       "│    └─TransformerDecoderBlock (4)                           [32, 64, 768]        [32, 64, 768]        --                   True\n",
       "│    │    └─MultiHeadAttentionBlockDecoder (msa_block)       [32, 64, 768]        [32, 64, 768]        2,360,064            True\n",
       "│    │    └─MLPBlock (mlp_block)                             [32, 64, 768]        [32, 64, 768]        789,248              True\n",
       "│    └─TransformerDecoderBlock (5)                           [32, 64, 768]        [32, 64, 768]        --                   True\n",
       "│    │    └─MultiHeadAttentionBlockDecoder (msa_block)       [32, 64, 768]        [32, 64, 768]        2,360,064            True\n",
       "│    │    └─MLPBlock (mlp_block)                             [32, 64, 768]        [32, 64, 768]        789,248              True\n",
       "├─Sequential (output_logits)                                 [32, 64, 768]        [32, 64, 30522]      --                   True\n",
       "│    └─LayerNorm (0)                                         [32, 64, 768]        [32, 64, 768]        1,536                True\n",
       "│    └─Linear (1)                                            [32, 64, 768]        [32, 64, 30522]      23,440,896           True\n",
       "============================================================================================================================================\n",
       "Total params: 65,828,352\n",
       "Trainable params: 65,828,352\n",
       "Non-trainable params: 0\n",
       "Total mult-adds (G): 2.10\n",
       "============================================================================================================================================\n",
       "Input size (MB): 0.01\n",
       "Forward/backward pass size (MB): 1028.55\n",
       "Params size (MB): 263.12\n",
       "Estimated Total Size (MB): 1291.68\n",
       "============================================================================================================================================"
      ]
     },
     "execution_count": 8,
     "metadata": {},
     "output_type": "execute_result"
    }
   ],
   "source": [
    "my_gpt = transformer.Gpt(n_embeddings = vocab_size)\n",
    "my_gpt.to(device)\n",
    "optimizer = torch.optim.Adam(params = my_gpt.parameters())\n",
    "summary(model= my_gpt, input_size=(32,64), dtypes = [torch.int32],col_names=[\"input_size\",\"output_size\",\"num_params\",\"trainable\"],\n",
    "        col_width=20,\n",
    "        row_settings=[\"var_names\"])"
   ]
  },
  {
   "cell_type": "markdown",
   "id": "f5dd0650",
   "metadata": {},
   "source": [
    "### Training the Model "
   ]
  },
  {
   "cell_type": "code",
   "execution_count": 9,
   "id": "3f9b9492",
   "metadata": {},
   "outputs": [],
   "source": [
    "def get_batch(data: List[str], seq_len: int, batch_size: int):\n",
    "    ix = torch.randint(len(data) - seq_len, (batch_size,))\n",
    "    x = torch.stack([data[i: i + seq_len] for i in ix])\n",
    "    y = torch.stack([data[i+1: i + seq_len + 1] for i in ix])\n",
    "    return x, y"
   ]
  },
  {
   "cell_type": "code",
   "execution_count": 10,
   "id": "f3e4b48d",
   "metadata": {},
   "outputs": [
    {
     "data": {
      "application/vnd.jupyter.widget-view+json": {
       "model_id": "50b0d0dedb014a72862d9ee1a44242cd",
       "version_major": 2,
       "version_minor": 0
      },
      "text/plain": [
       "  0%|          | 0/20 [00:00<?, ?it/s]"
      ]
     },
     "metadata": {},
     "output_type": "display_data"
    },
    {
     "name": "stdout",
     "output_type": "stream",
     "text": [
      "Evaluating the model\n",
      "step          0 | train loss 9.3334 | val loss 9.3555\n",
      "Evaluating the model\n",
      "step          5 | train loss 6.8771 | val loss 7.3265\n",
      "Evaluating the model\n",
      "step         10 | train loss 6.8173 | val loss 7.3641\n",
      "Evaluating the model\n",
      "step         15 | train loss 6.7657 | val loss 7.1802\n"
     ]
    }
   ],
   "source": [
    "train_loss = 0.0  # Initialize train_loss before the loop\n",
    "\n",
    "for it in tqdm(range(n_iterations)):\n",
    "    my_gpt.train()\n",
    "    x, y = get_batch(data=train_data, seq_len=seq_len, batch_size=batch_size)\n",
    "    x = x.to(device)\n",
    "    y = y.to(device)\n",
    "\n",
    "    logits, loss = my_gpt(x, y)\n",
    "    train_loss += loss.item()\n",
    "\n",
    "    optimizer.zero_grad(set_to_none=True)\n",
    "    loss.backward()\n",
    "    optimizer.step()\n",
    "\n",
    "    # evaluation\n",
    "    if it % eval_iteration == 0:\n",
    "        print(\"Evaluating the model\")\n",
    "        my_gpt.eval()\n",
    "        losses = torch.zeros(total_iterations_for_evaluation)\n",
    "        for k in range(total_iterations_for_evaluation):\n",
    "            x, y = get_batch(data=val_data, seq_len=seq_len, batch_size=batch_size)\n",
    "            x = x.to(device)\n",
    "            y = y.to(device)\n",
    "            logits, loss = my_gpt(x, y)\n",
    "            losses[k] = loss.item()\n",
    "        val_loss = losses.mean()\n",
    "\n",
    "        losses = torch.zeros(total_iterations_for_evaluation)\n",
    "        for k in range(total_iterations_for_evaluation):\n",
    "            x, y = get_batch(data=train_data, seq_len=seq_len, batch_size=batch_size)\n",
    "            x = x.to(device)\n",
    "            y = y.to(device)\n",
    "            logits, loss = my_gpt(x, y)\n",
    "            losses[k] = loss.item()\n",
    "        train_loss = losses.mean()\n",
    "        print(\"step {:10} | train loss {:6.4f} | val loss {:6.4f}\".format(it, train_loss, val_loss))"
   ]
  }
 ],
 "metadata": {
  "kernelspec": {
   "display_name": "Python 3 (ipykernel)",
   "language": "python",
   "name": "python3"
  },
  "language_info": {
   "codemirror_mode": {
    "name": "ipython",
    "version": 3
   },
   "file_extension": ".py",
   "mimetype": "text/x-python",
   "name": "python",
   "nbconvert_exporter": "python",
   "pygments_lexer": "ipython3",
   "version": "3.8.10"
  }
 },
 "nbformat": 4,
 "nbformat_minor": 5
}
